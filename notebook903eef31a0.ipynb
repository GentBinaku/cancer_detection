{
 "cells": [
  {
   "cell_type": "code",
   "execution_count": 3,
   "metadata": {
    "_cell_guid": "b1076dfc-b9ad-4769-8c92-a6c4dae69d19",
    "_uuid": "8f2839f25d086af736a60e9eeb907d3b93b6e0e5",
    "execution": {
     "iopub.execute_input": "2024-07-17T19:58:27.796551Z",
     "iopub.status.busy": "2024-07-17T19:58:27.796219Z",
     "iopub.status.idle": "2024-07-17T19:58:27.804997Z",
     "shell.execute_reply": "2024-07-17T19:58:27.803964Z",
     "shell.execute_reply.started": "2024-07-17T19:58:27.796527Z"
    }
   },
   "outputs": [
    {
     "name": "stdout",
     "output_type": "stream",
     "text": [
      "['sample_submission.csv', 'train_labels.csv', 'test', 'train']\n"
     ]
    }
   ],
   "source": [
    "import numpy as np\n",
    "import pandas as pd\n",
    "import os\n",
    "from glob import glob\n",
    "from skimage.io import imread\n",
    "import gc\n",
    "import shutil\n",
    "from sklearn.model_selection import train_test_split\n",
    "from sklearn.utils import shuffle\n",
    "from tensorflow.keras.preprocessing.image import ImageDataGenerator\n",
    "from tensorflow.keras.models import Sequential\n",
    "from tensorflow.keras.layers import Dense, Dropout, Flatten, BatchNormalization, Activation, Conv2D, MaxPool2D\n",
    "from tensorflow.keras.optimizers import Adam\n",
    "from tensorflow.keras.callbacks import EarlyStopping, ReduceLROnPlateau\n",
    "from sklearn.metrics import roc_curve, auc\n",
    "import matplotlib.pyplot as plt\n",
    "\n",
    "print(os.listdir(\"../input/histopathologic-cancer-detection\"))"
   ]
  },
  {
   "cell_type": "code",
   "execution_count": 4,
   "metadata": {
    "execution": {
     "iopub.execute_input": "2024-07-17T19:58:27.807380Z",
     "iopub.status.busy": "2024-07-17T19:58:27.806817Z",
     "iopub.status.idle": "2024-07-17T19:58:31.321487Z",
     "shell.execute_reply": "2024-07-17T19:58:31.320671Z",
     "shell.execute_reply.started": "2024-07-17T19:58:27.807354Z"
    }
   },
   "outputs": [],
   "source": [
    "base_tile_dir = '../input/histopathologic-cancer-detection/train/'\n",
    "df = pd.DataFrame({'path': glob(os.path.join(base_tile_dir, '*.tif'))})\n",
    "df['id'] = df.path.map(lambda x: x.split('/')[4].split(\".\")[0])\n",
    "labels = pd.read_csv(\"../input/histopathologic-cancer-detection/train_labels.csv\")\n",
    "df_data = df.merge(labels, on=\"id\")"
   ]
  },
  {
   "cell_type": "code",
   "execution_count": 5,
   "metadata": {
    "execution": {
     "iopub.execute_input": "2024-07-17T19:58:31.322833Z",
     "iopub.status.busy": "2024-07-17T19:58:31.322527Z",
     "iopub.status.idle": "2024-07-17T19:58:31.380514Z",
     "shell.execute_reply": "2024-07-17T19:58:31.379537Z",
     "shell.execute_reply.started": "2024-07-17T19:58:31.322797Z"
    }
   },
   "outputs": [],
   "source": [
    "df_data = df_data[df_data['id'] != '9369c7278ec8bcc6c880d99194de09fc2bd4efbe']\n"
   ]
  },
  {
   "cell_type": "code",
   "execution_count": 6,
   "metadata": {
    "execution": {
     "iopub.execute_input": "2024-07-17T19:58:31.383569Z",
     "iopub.status.busy": "2024-07-17T19:58:31.383127Z",
     "iopub.status.idle": "2024-07-17T19:58:31.552100Z",
     "shell.execute_reply": "2024-07-17T19:58:31.551073Z",
     "shell.execute_reply.started": "2024-07-17T19:58:31.383534Z"
    }
   },
   "outputs": [],
   "source": [
    "SAMPLE_SIZE = 80000\n",
    "df_0 = df_data[df_data['label'] == 0].sample(SAMPLE_SIZE, random_state=101)\n",
    "df_1 = df_data[df_data['label'] == 1].sample(SAMPLE_SIZE, random_state=101)\n",
    "df_data = shuffle(pd.concat([df_0, df_1], axis=0).reset_index(drop=True))\n",
    "y = df_data['label']\n",
    "df_train, df_val = train_test_split(df_data, test_size=0.10, random_state=101, stratify=y)\n"
   ]
  },
  {
   "cell_type": "code",
   "execution_count": 7,
   "metadata": {
    "execution": {
     "iopub.execute_input": "2024-07-17T19:58:31.553578Z",
     "iopub.status.busy": "2024-07-17T19:58:31.553229Z",
     "iopub.status.idle": "2024-07-17T19:58:31.559245Z",
     "shell.execute_reply": "2024-07-17T19:58:31.558179Z",
     "shell.execute_reply.started": "2024-07-17T19:58:31.553545Z"
    }
   },
   "outputs": [],
   "source": [
    "train_path = 'base_dir/train'\n",
    "valid_path = 'base_dir/valid'\n",
    "for fold in [train_path, valid_path]:\n",
    "    for subf in [\"0\", \"1\"]:\n",
    "        os.makedirs(os.path.join(fold, subf), exist_ok=True)"
   ]
  },
  {
   "cell_type": "code",
   "execution_count": 8,
   "metadata": {
    "execution": {
     "iopub.execute_input": "2024-07-17T19:58:31.560866Z",
     "iopub.status.busy": "2024-07-17T19:58:31.560556Z",
     "iopub.status.idle": "2024-07-17T19:58:31.569550Z",
     "shell.execute_reply": "2024-07-17T19:58:31.568651Z",
     "shell.execute_reply.started": "2024-07-17T19:58:31.560839Z"
    }
   },
   "outputs": [],
   "source": [
    "df_data.set_index('id', inplace=True)\n"
   ]
  },
  {
   "cell_type": "code",
   "execution_count": 9,
   "metadata": {
    "execution": {
     "iopub.execute_input": "2024-07-17T19:58:31.571477Z",
     "iopub.status.busy": "2024-07-17T19:58:31.570696Z",
     "iopub.status.idle": "2024-07-17T20:18:55.386822Z",
     "shell.execute_reply": "2024-07-17T20:18:55.385818Z",
     "shell.execute_reply.started": "2024-07-17T19:58:31.571450Z"
    }
   },
   "outputs": [],
   "source": [
    "for image in df_train['id'].values:\n",
    "    fname = image + '.tif'\n",
    "    label = str(df_data.loc[image, 'label'])\n",
    "    src = os.path.join(base_tile_dir, fname)\n",
    "    dst = os.path.join(train_path, label, fname)\n",
    "    shutil.copyfile(src, dst)\n",
    "\n",
    "for image in df_val['id'].values:\n",
    "    fname = image + '.tif'\n",
    "    label = str(df_data.loc[image, 'label'])\n",
    "    src = os.path.join(base_tile_dir, fname)\n",
    "    dst = os.path.join(valid_path, label, fname)\n",
    "    shutil.copyfile(src, dst)"
   ]
  },
  {
   "cell_type": "code",
   "execution_count": 10,
   "metadata": {
    "execution": {
     "iopub.execute_input": "2024-07-17T20:18:55.388312Z",
     "iopub.status.busy": "2024-07-17T20:18:55.388050Z",
     "iopub.status.idle": "2024-07-17T20:19:02.414078Z",
     "shell.execute_reply": "2024-07-17T20:19:02.413312Z",
     "shell.execute_reply.started": "2024-07-17T20:18:55.388290Z"
    }
   },
   "outputs": [
    {
     "name": "stdout",
     "output_type": "stream",
     "text": [
      "Found 144000 images belonging to 2 classes.\n",
      "Found 16000 images belonging to 2 classes.\n"
     ]
    }
   ],
   "source": [
    "IMAGE_SIZE = 96\n",
    "train_batch_size = 32\n",
    "val_batch_size = 32\n",
    "\n",
    "datagen = ImageDataGenerator(preprocessing_function=lambda x: (x - x.mean()) / x.std() if x.std() > 0 else x,\n",
    "                             horizontal_flip=True,\n",
    "                             vertical_flip=True)\n",
    "\n",
    "train_gen = datagen.flow_from_directory(train_path,\n",
    "                                        target_size=(IMAGE_SIZE, IMAGE_SIZE),\n",
    "                                        batch_size=train_batch_size,\n",
    "                                        class_mode='binary')\n",
    "\n",
    "val_gen = datagen.flow_from_directory(valid_path,\n",
    "                                      target_size=(IMAGE_SIZE, IMAGE_SIZE),\n",
    "                                      batch_size=val_batch_size,\n",
    "                                      class_mode='binary')"
   ]
  },
  {
   "cell_type": "code",
   "execution_count": 11,
   "metadata": {
    "execution": {
     "iopub.execute_input": "2024-07-17T20:19:02.416808Z",
     "iopub.status.busy": "2024-07-17T20:19:02.416519Z",
     "iopub.status.idle": "2024-07-17T20:19:03.465598Z",
     "shell.execute_reply": "2024-07-17T20:19:03.464832Z",
     "shell.execute_reply.started": "2024-07-17T20:19:02.416784Z"
    }
   },
   "outputs": [
    {
     "name": "stderr",
     "output_type": "stream",
     "text": [
      "/opt/conda/lib/python3.10/site-packages/keras/src/layers/convolutional/base_conv.py:107: UserWarning: Do not pass an `input_shape`/`input_dim` argument to a layer. When using Sequential models, prefer using an `Input(shape)` object as the first layer in the model instead.\n",
      "  super().__init__(activity_regularizer=activity_regularizer, **kwargs)\n"
     ]
    }
   ],
   "source": [
    "model = Sequential()\n",
    "model.add(Conv2D(32, (3, 3), activation='relu', input_shape=(IMAGE_SIZE, IMAGE_SIZE, 3)))\n",
    "model.add(Conv2D(32, (3, 3), use_bias=False))\n",
    "model.add(BatchNormalization())\n",
    "model.add(Activation(\"relu\"))\n",
    "model.add(MaxPool2D(pool_size=(2, 2)))\n",
    "model.add(Dropout(0.3))\n",
    "\n",
    "model.add(Conv2D(64, (3, 3), use_bias=False))\n",
    "model.add(BatchNormalization())\n",
    "model.add(Activation(\"relu\"))\n",
    "model.add(Conv2D(64, (3, 3), use_bias=False))\n",
    "model.add(BatchNormalization())\n",
    "model.add(Activation(\"relu\"))\n",
    "model.add(MaxPool2D(pool_size=(2, 2)))\n",
    "model.add(Dropout(0.3))\n",
    "\n",
    "model.add(Conv2D(128, (3, 3), use_bias=False))\n",
    "model.add(BatchNormalization())\n",
    "model.add(Activation(\"relu\"))\n",
    "model.add(Conv2D(128, (3, 3), use_bias=False))\n",
    "model.add(BatchNormalization())\n",
    "model.add(Activation(\"relu\"))\n",
    "model.add(MaxPool2D(pool_size=(2, 2)))\n",
    "model.add(Dropout(0.3))\n",
    "\n",
    "model.add(Flatten())\n",
    "model.add(Dense(256, use_bias=False))\n",
    "model.add(BatchNormalization())\n",
    "model.add(Activation(\"relu\"))\n",
    "model.add(Dropout(0.5))\n",
    "model.add(Dense(1, activation=\"sigmoid\"))"
   ]
  },
  {
   "cell_type": "code",
   "execution_count": 12,
   "metadata": {
    "execution": {
     "iopub.execute_input": "2024-07-17T20:19:03.466817Z",
     "iopub.status.busy": "2024-07-17T20:19:03.466570Z",
     "iopub.status.idle": "2024-07-17T20:19:03.480162Z",
     "shell.execute_reply": "2024-07-17T20:19:03.479349Z",
     "shell.execute_reply.started": "2024-07-17T20:19:03.466795Z"
    }
   },
   "outputs": [],
   "source": [
    "model.compile(Adam(0.01), loss=\"binary_crossentropy\", metrics=[\"accuracy\"])\n"
   ]
  },
  {
   "cell_type": "code",
   "execution_count": 13,
   "metadata": {
    "execution": {
     "iopub.execute_input": "2024-07-17T20:19:03.481526Z",
     "iopub.status.busy": "2024-07-17T20:19:03.481281Z",
     "iopub.status.idle": "2024-07-17T20:19:03.486409Z",
     "shell.execute_reply": "2024-07-17T20:19:03.485385Z",
     "shell.execute_reply.started": "2024-07-17T20:19:03.481504Z"
    }
   },
   "outputs": [],
   "source": [
    "earlystopper = EarlyStopping(monitor='val_loss', patience=2, verbose=1, restore_best_weights=True)\n",
    "reducel = ReduceLROnPlateau(monitor='val_loss', patience=1, verbose=1, factor=0.1)\n"
   ]
  },
  {
   "cell_type": "code",
   "execution_count": 14,
   "metadata": {
    "execution": {
     "iopub.execute_input": "2024-07-17T20:19:03.487760Z",
     "iopub.status.busy": "2024-07-17T20:19:03.487500Z",
     "iopub.status.idle": "2024-07-17T20:45:53.550474Z",
     "shell.execute_reply": "2024-07-17T20:45:53.549560Z",
     "shell.execute_reply.started": "2024-07-17T20:19:03.487732Z"
    }
   },
   "outputs": [
    {
     "name": "stdout",
     "output_type": "stream",
     "text": [
      "Epoch 1/13\n"
     ]
    },
    {
     "name": "stderr",
     "output_type": "stream",
     "text": [
      "/opt/conda/lib/python3.10/site-packages/keras/src/trainers/data_adapters/py_dataset_adapter.py:121: UserWarning: Your `PyDataset` class should call `super().__init__(**kwargs)` in its constructor. `**kwargs` can include `workers`, `use_multiprocessing`, `max_queue_size`. Do not pass these arguments to `fit()`, as they will be ignored.\n",
      "  self._warn_if_super_not_called()\n",
      "2024-07-17 20:19:11.930945: E external/local_xla/xla/service/gpu/buffer_comparator.cc:1137] Difference at 8836: 6.17839, expected 5.44963\n",
      "2024-07-17 20:19:11.931021: E external/local_xla/xla/service/gpu/buffer_comparator.cc:1137] Difference at 8839: 5.09095, expected 4.36218\n",
      "2024-07-17 20:19:11.931031: E external/local_xla/xla/service/gpu/buffer_comparator.cc:1137] Difference at 8843: 6.28436, expected 5.55559\n",
      "2024-07-17 20:19:11.931039: E external/local_xla/xla/service/gpu/buffer_comparator.cc:1137] Difference at 8845: 5.83888, expected 5.11011\n",
      "2024-07-17 20:19:11.931047: E external/local_xla/xla/service/gpu/buffer_comparator.cc:1137] Difference at 8846: 5.57204, expected 4.84327\n",
      "2024-07-17 20:19:11.931055: E external/local_xla/xla/service/gpu/buffer_comparator.cc:1137] Difference at 8848: 6.03331, expected 5.30455\n",
      "2024-07-17 20:19:11.931063: E external/local_xla/xla/service/gpu/buffer_comparator.cc:1137] Difference at 8849: 5.66228, expected 4.93352\n",
      "2024-07-17 20:19:11.931070: E external/local_xla/xla/service/gpu/buffer_comparator.cc:1137] Difference at 8850: 5.8713, expected 5.14253\n",
      "2024-07-17 20:19:11.931078: E external/local_xla/xla/service/gpu/buffer_comparator.cc:1137] Difference at 8851: 5.8232, expected 5.09444\n",
      "2024-07-17 20:19:11.931086: E external/local_xla/xla/service/gpu/buffer_comparator.cc:1137] Difference at 8854: 5.6133, expected 4.88454\n",
      "2024-07-17 20:19:11.935016: E external/local_xla/xla/service/gpu/conv_algorithm_picker.cc:705] Results mismatch between different convolution algorithms. This is likely a bug/unexpected loss of precision in cudnn.\n",
      "(f32[32,32,94,94]{3,2,1,0}, u8[0]{0}) custom-call(f32[32,3,96,96]{3,2,1,0}, f32[32,3,3,3]{3,2,1,0}, f32[32]{0}), window={size=3x3}, dim_labels=bf01_oi01->bf01, custom_call_target=\"__cudnn$convBiasActivationForward\", backend_config={\"conv_result_scale\":1,\"activation_mode\":\"kRelu\",\"side_input_scale\":0,\"leakyrelu_alpha\":0} for eng20{k2=2,k4=1,k5=1,k6=0,k7=0} vs eng15{k5=1,k6=0,k7=1,k10=1}\n",
      "2024-07-17 20:19:11.935047: E external/local_xla/xla/service/gpu/conv_algorithm_picker.cc:270] Device: Tesla P100-PCIE-16GB\n",
      "2024-07-17 20:19:11.935056: E external/local_xla/xla/service/gpu/conv_algorithm_picker.cc:271] Platform: Compute Capability 6.0\n",
      "2024-07-17 20:19:11.935063: E external/local_xla/xla/service/gpu/conv_algorithm_picker.cc:272] Driver: 12040 (550.90.7)\n",
      "2024-07-17 20:19:11.935070: E external/local_xla/xla/service/gpu/conv_algorithm_picker.cc:273] Runtime: <undefined>\n",
      "2024-07-17 20:19:11.935086: E external/local_xla/xla/service/gpu/conv_algorithm_picker.cc:280] cudnn version: 8.9.0\n",
      "2024-07-17 20:19:12.155157: E external/local_xla/xla/service/gpu/buffer_comparator.cc:1137] Difference at 8836: 6.17839, expected 5.44963\n",
      "2024-07-17 20:19:12.155213: E external/local_xla/xla/service/gpu/buffer_comparator.cc:1137] Difference at 8839: 5.09095, expected 4.36218\n",
      "2024-07-17 20:19:12.155222: E external/local_xla/xla/service/gpu/buffer_comparator.cc:1137] Difference at 8843: 6.28436, expected 5.55559\n",
      "2024-07-17 20:19:12.155230: E external/local_xla/xla/service/gpu/buffer_comparator.cc:1137] Difference at 8845: 5.83888, expected 5.11011\n",
      "2024-07-17 20:19:12.155238: E external/local_xla/xla/service/gpu/buffer_comparator.cc:1137] Difference at 8846: 5.57204, expected 4.84327\n",
      "2024-07-17 20:19:12.155246: E external/local_xla/xla/service/gpu/buffer_comparator.cc:1137] Difference at 8848: 6.03331, expected 5.30455\n",
      "2024-07-17 20:19:12.155254: E external/local_xla/xla/service/gpu/buffer_comparator.cc:1137] Difference at 8849: 5.66228, expected 4.93352\n",
      "2024-07-17 20:19:12.155262: E external/local_xla/xla/service/gpu/buffer_comparator.cc:1137] Difference at 8850: 5.8713, expected 5.14253\n",
      "2024-07-17 20:19:12.155269: E external/local_xla/xla/service/gpu/buffer_comparator.cc:1137] Difference at 8851: 5.8232, expected 5.09444\n",
      "2024-07-17 20:19:12.155277: E external/local_xla/xla/service/gpu/buffer_comparator.cc:1137] Difference at 8854: 5.6133, expected 4.88454\n",
      "2024-07-17 20:19:12.159460: E external/local_xla/xla/service/gpu/conv_algorithm_picker.cc:705] Results mismatch between different convolution algorithms. This is likely a bug/unexpected loss of precision in cudnn.\n",
      "(f32[32,32,94,94]{3,2,1,0}, u8[0]{0}) custom-call(f32[32,3,96,96]{3,2,1,0}, f32[32,3,3,3]{3,2,1,0}, f32[32]{0}), window={size=3x3}, dim_labels=bf01_oi01->bf01, custom_call_target=\"__cudnn$convBiasActivationForward\", backend_config={\"conv_result_scale\":1,\"activation_mode\":\"kRelu\",\"side_input_scale\":0,\"leakyrelu_alpha\":0} for eng20{k2=2,k4=1,k5=1,k6=0,k7=0} vs eng15{k5=1,k6=0,k7=1,k10=1}\n",
      "2024-07-17 20:19:12.159491: E external/local_xla/xla/service/gpu/conv_algorithm_picker.cc:270] Device: Tesla P100-PCIE-16GB\n",
      "2024-07-17 20:19:12.159500: E external/local_xla/xla/service/gpu/conv_algorithm_picker.cc:271] Platform: Compute Capability 6.0\n",
      "2024-07-17 20:19:12.159506: E external/local_xla/xla/service/gpu/conv_algorithm_picker.cc:272] Driver: 12040 (550.90.7)\n",
      "2024-07-17 20:19:12.159513: E external/local_xla/xla/service/gpu/conv_algorithm_picker.cc:273] Runtime: <undefined>\n",
      "2024-07-17 20:19:12.159528: E external/local_xla/xla/service/gpu/conv_algorithm_picker.cc:280] cudnn version: 8.9.0\n"
     ]
    },
    {
     "name": "stdout",
     "output_type": "stream",
     "text": [
      "\u001b[1m   3/4500\u001b[0m \u001b[37m━━━━━━━━━━━━━━━━━━━━\u001b[0m \u001b[1m2:37\u001b[0m 35ms/step - accuracy: 0.5469 - loss: 1.0343   "
     ]
    },
    {
     "name": "stderr",
     "output_type": "stream",
     "text": [
      "WARNING: All log messages before absl::InitializeLog() is called are written to STDERR\n",
      "I0000 00:00:1721247559.884418     135 device_compiler.h:186] Compiled cluster using XLA!  This line is logged at most once for the lifetime of the process.\n"
     ]
    },
    {
     "name": "stdout",
     "output_type": "stream",
     "text": [
      "\u001b[1m4500/4500\u001b[0m \u001b[32m━━━━━━━━━━━━━━━━━━━━\u001b[0m\u001b[37m\u001b[0m \u001b[1m247s\u001b[0m 51ms/step - accuracy: 0.7884 - loss: 0.4681 - val_accuracy: 0.7577 - val_loss: 0.5746 - learning_rate: 0.0100\n",
      "Epoch 2/13\n",
      "\u001b[1m4500/4500\u001b[0m \u001b[32m━━━━━━━━━━━━━━━━━━━━\u001b[0m\u001b[37m\u001b[0m \u001b[1m231s\u001b[0m 51ms/step - accuracy: 0.8503 - loss: 0.3517 - val_accuracy: 0.8777 - val_loss: 0.2935 - learning_rate: 0.0100\n",
      "Epoch 3/13\n",
      "\u001b[1m4498/4500\u001b[0m \u001b[32m━━━━━━━━━━━━━━━━━━━\u001b[0m\u001b[37m━\u001b[0m \u001b[1m0s\u001b[0m 46ms/step - accuracy: 0.8803 - loss: 0.2966\n",
      "Epoch 3: ReduceLROnPlateau reducing learning rate to 0.0009999999776482583.\n",
      "\u001b[1m4500/4500\u001b[0m \u001b[32m━━━━━━━━━━━━━━━━━━━━\u001b[0m\u001b[37m\u001b[0m \u001b[1m226s\u001b[0m 50ms/step - accuracy: 0.8803 - loss: 0.2966 - val_accuracy: 0.7942 - val_loss: 0.4335 - learning_rate: 0.0100\n",
      "Epoch 4/13\n",
      "\u001b[1m4500/4500\u001b[0m \u001b[32m━━━━━━━━━━━━━━━━━━━━\u001b[0m\u001b[37m\u001b[0m \u001b[1m226s\u001b[0m 50ms/step - accuracy: 0.9027 - loss: 0.2456 - val_accuracy: 0.9114 - val_loss: 0.2230 - learning_rate: 1.0000e-03\n",
      "Epoch 5/13\n",
      "\u001b[1m4500/4500\u001b[0m \u001b[32m━━━━━━━━━━━━━━━━━━━━\u001b[0m\u001b[37m\u001b[0m \u001b[1m225s\u001b[0m 50ms/step - accuracy: 0.9103 - loss: 0.2309 - val_accuracy: 0.9090 - val_loss: 0.2227 - learning_rate: 1.0000e-03\n",
      "Epoch 6/13\n",
      "\u001b[1m4498/4500\u001b[0m \u001b[32m━━━━━━━━━━━━━━━━━━━\u001b[0m\u001b[37m━\u001b[0m \u001b[1m0s\u001b[0m 46ms/step - accuracy: 0.9125 - loss: 0.2223\n",
      "Epoch 6: ReduceLROnPlateau reducing learning rate to 9.999999310821295e-05.\n",
      "\u001b[1m4500/4500\u001b[0m \u001b[32m━━━━━━━━━━━━━━━━━━━━\u001b[0m\u001b[37m\u001b[0m \u001b[1m227s\u001b[0m 50ms/step - accuracy: 0.9125 - loss: 0.2223 - val_accuracy: 0.9018 - val_loss: 0.2382 - learning_rate: 1.0000e-03\n",
      "Epoch 7/13\n",
      "\u001b[1m4497/4500\u001b[0m \u001b[32m━━━━━━━━━━━━━━━━━━━\u001b[0m\u001b[37m━\u001b[0m \u001b[1m0s\u001b[0m 46ms/step - accuracy: 0.9152 - loss: 0.2170\n",
      "Epoch 7: ReduceLROnPlateau reducing learning rate to 9.999999019782991e-06.\n",
      "\u001b[1m4500/4500\u001b[0m \u001b[32m━━━━━━━━━━━━━━━━━━━━\u001b[0m\u001b[37m\u001b[0m \u001b[1m227s\u001b[0m 50ms/step - accuracy: 0.9152 - loss: 0.2170 - val_accuracy: 0.9061 - val_loss: 0.2315 - learning_rate: 1.0000e-04\n",
      "Epoch 7: early stopping\n",
      "Restoring model weights from the end of the best epoch: 5.\n"
     ]
    }
   ],
   "source": [
    "history = model.fit(train_gen,\n",
    "                    validation_data=val_gen,\n",
    "                    epochs=13,\n",
    "                    callbacks=[reducel, earlystopper])"
   ]
  },
  {
   "cell_type": "code",
   "execution_count": 15,
   "metadata": {
    "execution": {
     "iopub.execute_input": "2024-07-17T20:45:53.552919Z",
     "iopub.status.busy": "2024-07-17T20:45:53.552616Z",
     "iopub.status.idle": "2024-07-17T20:46:16.343937Z",
     "shell.execute_reply": "2024-07-17T20:46:16.343156Z",
     "shell.execute_reply.started": "2024-07-17T20:45:53.552893Z"
    }
   },
   "outputs": [
    {
     "name": "stdout",
     "output_type": "stream",
     "text": [
      "\u001b[1m16000/16000\u001b[0m \u001b[32m━━━━━━━━━━━━━━━━━━━━\u001b[0m\u001b[37m\u001b[0m \u001b[1m22s\u001b[0m 1ms/step   \n"
     ]
    },
    {
     "name": "stderr",
     "output_type": "stream",
     "text": [
      "/opt/conda/lib/python3.10/contextlib.py:153: UserWarning: Your input ran out of data; interrupting training. Make sure that your dataset or generator can generate at least `steps_per_epoch * epochs` batches. You may need to use the `.repeat()` function when building your dataset.\n",
      "  self.gen.throw(typ, value, traceback)\n"
     ]
    }
   ],
   "source": [
    "y_pred_keras = model.predict(val_gen, steps=len(df_val))\n",
    "fpr_keras, tpr_keras, thresholds_keras = roc_curve(val_gen.classes, y_pred_keras)\n",
    "auc_keras = auc(fpr_keras, tpr_keras)"
   ]
  },
  {
   "cell_type": "code",
   "execution_count": 17,
   "metadata": {
    "execution": {
     "iopub.execute_input": "2024-07-17T20:55:42.280110Z",
     "iopub.status.busy": "2024-07-17T20:55:42.279721Z",
     "iopub.status.idle": "2024-07-17T21:04:41.374456Z",
     "shell.execute_reply": "2024-07-17T21:04:41.373638Z",
     "shell.execute_reply.started": "2024-07-17T20:55:42.280080Z"
    }
   },
   "outputs": [
    {
     "data": {
      "image/png": "[encoded data removed]",
      "text/plain": [
       "<Figure size 640x480 with 1 Axes>"
      ]
     },
     "metadata": {},
     "output_type": "display_data"
    },
    {
     "name": "stdout",
     "output_type": "stream",
     "text": [
      "Indexes: 0 - 5000\n",
      "\u001b[1m141/157\u001b[0m \u001b[32m━━━━━━━━━━━━━━━━━\u001b[0m\u001b[37m━━━\u001b[0m \u001b[1m0s\u001b[0m 3ms/step"
     ]
    },
    {
     "name": "stderr",
     "output_type": "stream",
     "text": [
      "2024-07-17 20:56:27.686862: E external/local_xla/xla/service/gpu/buffer_comparator.cc:1137] Difference at 35384: 5.56886, expected 4.88914\n",
      "2024-07-17 20:56:27.686927: E external/local_xla/xla/service/gpu/buffer_comparator.cc:1137] Difference at 35405: 5.71776, expected 5.03803\n",
      "2024-07-17 20:56:27.686942: E external/local_xla/xla/service/gpu/buffer_comparator.cc:1137] Difference at 35407: 5.49677, expected 4.81704\n",
      "2024-07-17 20:56:27.686956: E external/local_xla/xla/service/gpu/buffer_comparator.cc:1137] Difference at 35408: 5.65397, expected 4.97424\n",
      "2024-07-17 20:56:27.686969: E external/local_xla/xla/service/gpu/buffer_comparator.cc:1137] Difference at 35417: 5.33792, expected 4.65819\n",
      "2024-07-17 20:56:27.686995: E external/local_xla/xla/service/gpu/buffer_comparator.cc:1137] Difference at 35426: 5.66103, expected 4.9813\n",
      "2024-07-17 20:56:27.687005: E external/local_xla/xla/service/gpu/buffer_comparator.cc:1137] Difference at 35427: 4.69272, expected 4.01299\n",
      "2024-07-17 20:56:27.687016: E external/local_xla/xla/service/gpu/buffer_comparator.cc:1137] Difference at 35428: 5.43815, expected 4.75842\n",
      "2024-07-17 20:56:27.687028: E external/local_xla/xla/service/gpu/buffer_comparator.cc:1137] Difference at 35429: 5.73528, expected 5.05555\n",
      "2024-07-17 20:56:27.687038: E external/local_xla/xla/service/gpu/buffer_comparator.cc:1137] Difference at 35442: 5.26298, expected 4.58325\n",
      "2024-07-17 20:56:27.687063: E external/local_xla/xla/service/gpu/conv_algorithm_picker.cc:705] Results mismatch between different convolution algorithms. This is likely a bug/unexpected loss of precision in cudnn.\n",
      "(f32[8,32,94,94]{3,2,1,0}, u8[0]{0}) custom-call(f32[8,3,96,96]{3,2,1,0}, f32[32,3,3,3]{3,2,1,0}, f32[32]{0}), window={size=3x3}, dim_labels=bf01_oi01->bf01, custom_call_target=\"__cudnn$convBiasActivationForward\", backend_config={\"conv_result_scale\":1,\"activation_mode\":\"kRelu\",\"side_input_scale\":0,\"leakyrelu_alpha\":0} for eng20{k2=2,k4=1,k5=1,k6=0,k7=0} vs eng15{k5=1,k6=0,k7=1,k10=1}\n",
      "2024-07-17 20:56:27.687074: E external/local_xla/xla/service/gpu/conv_algorithm_picker.cc:270] Device: Tesla P100-PCIE-16GB\n",
      "2024-07-17 20:56:27.687084: E external/local_xla/xla/service/gpu/conv_algorithm_picker.cc:271] Platform: Compute Capability 6.0\n",
      "2024-07-17 20:56:27.687093: E external/local_xla/xla/service/gpu/conv_algorithm_picker.cc:272] Driver: 12040 (550.90.7)\n",
      "2024-07-17 20:56:27.687105: E external/local_xla/xla/service/gpu/conv_algorithm_picker.cc:273] Runtime: <undefined>\n",
      "2024-07-17 20:56:27.687121: E external/local_xla/xla/service/gpu/conv_algorithm_picker.cc:280] cudnn version: 8.9.0\n",
      "2024-07-17 20:56:27.730581: E external/local_xla/xla/service/gpu/buffer_comparator.cc:1137] Difference at 35384: 5.56886, expected 4.88914\n",
      "2024-07-17 20:56:27.730629: E external/local_xla/xla/service/gpu/buffer_comparator.cc:1137] Difference at 35405: 5.71776, expected 5.03803\n",
      "2024-07-17 20:56:27.730644: E external/local_xla/xla/service/gpu/buffer_comparator.cc:1137] Difference at 35407: 5.49677, expected 4.81704\n",
      "2024-07-17 20:56:27.730657: E external/local_xla/xla/service/gpu/buffer_comparator.cc:1137] Difference at 35408: 5.65397, expected 4.97424\n",
      "2024-07-17 20:56:27.730669: E external/local_xla/xla/service/gpu/buffer_comparator.cc:1137] Difference at 35417: 5.33792, expected 4.65819\n",
      "2024-07-17 20:56:27.730679: E external/local_xla/xla/service/gpu/buffer_comparator.cc:1137] Difference at 35426: 5.66103, expected 4.9813\n",
      "2024-07-17 20:56:27.730692: E external/local_xla/xla/service/gpu/buffer_comparator.cc:1137] Difference at 35427: 4.69272, expected 4.01299\n",
      "2024-07-17 20:56:27.730705: E external/local_xla/xla/service/gpu/buffer_comparator.cc:1137] Difference at 35428: 5.43815, expected 4.75842\n",
      "2024-07-17 20:56:27.730719: E external/local_xla/xla/service/gpu/buffer_comparator.cc:1137] Difference at 35429: 5.73528, expected 5.05555\n",
      "2024-07-17 20:56:27.730732: E external/local_xla/xla/service/gpu/buffer_comparator.cc:1137] Difference at 35442: 5.26298, expected 4.58325\n",
      "2024-07-17 20:56:27.730755: E external/local_xla/xla/service/gpu/conv_algorithm_picker.cc:705] Results mismatch between different convolution algorithms. This is likely a bug/unexpected loss of precision in cudnn.\n",
      "(f32[8,32,94,94]{3,2,1,0}, u8[0]{0}) custom-call(f32[8,3,96,96]{3,2,1,0}, f32[32,3,3,3]{3,2,1,0}, f32[32]{0}), window={size=3x3}, dim_labels=bf01_oi01->bf01, custom_call_target=\"__cudnn$convBiasActivationForward\", backend_config={\"conv_result_scale\":1,\"activation_mode\":\"kRelu\",\"side_input_scale\":0,\"leakyrelu_alpha\":0} for eng20{k2=2,k4=1,k5=1,k6=0,k7=0} vs eng15{k5=1,k6=0,k7=1,k10=1}\n",
      "2024-07-17 20:56:27.730774: E external/local_xla/xla/service/gpu/conv_algorithm_picker.cc:270] Device: Tesla P100-PCIE-16GB\n",
      "2024-07-17 20:56:27.730787: E external/local_xla/xla/service/gpu/conv_algorithm_picker.cc:271] Platform: Compute Capability 6.0\n",
      "2024-07-17 20:56:27.730797: E external/local_xla/xla/service/gpu/conv_algorithm_picker.cc:272] Driver: 12040 (550.90.7)\n",
      "2024-07-17 20:56:27.730808: E external/local_xla/xla/service/gpu/conv_algorithm_picker.cc:273] Runtime: <undefined>\n",
      "2024-07-17 20:56:27.730823: E external/local_xla/xla/service/gpu/conv_algorithm_picker.cc:280] cudnn version: 8.9.0\n"
     ]
    },
    {
     "name": "stdout",
     "output_type": "stream",
     "text": [
      "\u001b[1m157/157\u001b[0m \u001b[32m━━━━━━━━━━━━━━━━━━━━\u001b[0m\u001b[37m\u001b[0m \u001b[1m2s\u001b[0m 10ms/step\n",
      "Indexes: 5000 - 10000\n",
      "\u001b[1m157/157\u001b[0m \u001b[32m━━━━━━━━━━━━━━━━━━━━\u001b[0m\u001b[37m\u001b[0m \u001b[1m0s\u001b[0m 3ms/step\n",
      "Indexes: 10000 - 15000\n",
      "\u001b[1m157/157\u001b[0m \u001b[32m━━━━━━━━━━━━━━━━━━━━\u001b[0m\u001b[37m\u001b[0m \u001b[1m0s\u001b[0m 3ms/step\n",
      "Indexes: 15000 - 20000\n",
      "\u001b[1m157/157\u001b[0m \u001b[32m━━━━━━━━━━━━━━━━━━━━\u001b[0m\u001b[37m\u001b[0m \u001b[1m0s\u001b[0m 3ms/step\n",
      "Indexes: 20000 - 25000\n",
      "\u001b[1m157/157\u001b[0m \u001b[32m━━━━━━━━━━━━━━━━━━━━\u001b[0m\u001b[37m\u001b[0m \u001b[1m0s\u001b[0m 3ms/step\n",
      "Indexes: 25000 - 30000\n",
      "\u001b[1m157/157\u001b[0m \u001b[32m━━━━━━━━━━━━━━━━━━━━\u001b[0m\u001b[37m\u001b[0m \u001b[1m0s\u001b[0m 3ms/step\n",
      "Indexes: 30000 - 35000\n",
      "\u001b[1m157/157\u001b[0m \u001b[32m━━━━━━━━━━━━━━━━━━━━\u001b[0m\u001b[37m\u001b[0m \u001b[1m0s\u001b[0m 3ms/step\n",
      "Indexes: 35000 - 40000\n",
      "\u001b[1m157/157\u001b[0m \u001b[32m━━━━━━━━━━━━━━━━━━━━\u001b[0m\u001b[37m\u001b[0m \u001b[1m0s\u001b[0m 3ms/step\n",
      "Indexes: 40000 - 45000\n",
      "\u001b[1m157/157\u001b[0m \u001b[32m━━━━━━━━━━━━━━━━━━━━\u001b[0m\u001b[37m\u001b[0m \u001b[1m0s\u001b[0m 3ms/step\n",
      "Indexes: 45000 - 50000\n",
      "\u001b[1m157/157\u001b[0m \u001b[32m━━━━━━━━━━━━━━━━━━━━\u001b[0m\u001b[37m\u001b[0m \u001b[1m0s\u001b[0m 3ms/step\n",
      "Indexes: 50000 - 55000\n",
      "\u001b[1m157/157\u001b[0m \u001b[32m━━━━━━━━━━━━━━━━━━━━\u001b[0m\u001b[37m\u001b[0m \u001b[1m0s\u001b[0m 3ms/step\n",
      "Indexes: 55000 - 60000\n",
      "\u001b[1m72/77\u001b[0m \u001b[32m━━━━━━━━━━━━━━━━━━\u001b[0m\u001b[37m━━\u001b[0m \u001b[1m0s\u001b[0m 3ms/step"
     ]
    },
    {
     "name": "stderr",
     "output_type": "stream",
     "text": [
      "2024-07-17 21:04:40.127643: E external/local_xla/xla/service/gpu/buffer_comparator.cc:1137] Difference at 29007: 4.4263, expected 3.88178\n",
      "2024-07-17 21:04:40.127703: E external/local_xla/xla/service/gpu/buffer_comparator.cc:1137] Difference at 29623: 4.31422, expected 3.7697\n",
      "2024-07-17 21:04:40.127720: E external/local_xla/xla/service/gpu/buffer_comparator.cc:1137] Difference at 31593: 4.14511, expected 3.60059\n",
      "2024-07-17 21:04:40.127733: E external/local_xla/xla/service/gpu/buffer_comparator.cc:1137] Difference at 32672: 4.2334, expected 3.68887\n",
      "2024-07-17 21:04:40.127857: E external/local_xla/xla/service/gpu/buffer_comparator.cc:1137] Difference at 61854: 6.27065, expected 5.51022\n",
      "2024-07-17 21:04:40.127865: E external/local_xla/xla/service/gpu/buffer_comparator.cc:1137] Difference at 61866: 6.53341, expected 5.77298\n",
      "2024-07-17 21:04:40.127873: E external/local_xla/xla/service/gpu/buffer_comparator.cc:1137] Difference at 61912: 6.49767, expected 5.73724\n",
      "2024-07-17 21:04:40.127881: E external/local_xla/xla/service/gpu/buffer_comparator.cc:1137] Difference at 61914: 4.8307, expected 4.07027\n",
      "2024-07-17 21:04:40.127889: E external/local_xla/xla/service/gpu/buffer_comparator.cc:1137] Difference at 61915: 6.25557, expected 5.49514\n",
      "2024-07-17 21:04:40.127897: E external/local_xla/xla/service/gpu/buffer_comparator.cc:1137] Difference at 61917: 5.92464, expected 5.1642\n",
      "2024-07-17 21:04:40.131127: E external/local_xla/xla/service/gpu/conv_algorithm_picker.cc:705] Results mismatch between different convolution algorithms. This is likely a bug/unexpected loss of precision in cudnn.\n",
      "(f32[26,32,94,94]{3,2,1,0}, u8[0]{0}) custom-call(f32[26,3,96,96]{3,2,1,0}, f32[32,3,3,3]{3,2,1,0}, f32[32]{0}), window={size=3x3}, dim_labels=bf01_oi01->bf01, custom_call_target=\"__cudnn$convBiasActivationForward\", backend_config={\"conv_result_scale\":1,\"activation_mode\":\"kRelu\",\"side_input_scale\":0,\"leakyrelu_alpha\":0} for eng20{k2=2,k4=1,k5=1,k6=0,k7=0} vs eng15{k5=1,k6=0,k7=1,k10=1}\n",
      "2024-07-17 21:04:40.131158: E external/local_xla/xla/service/gpu/conv_algorithm_picker.cc:270] Device: Tesla P100-PCIE-16GB\n",
      "2024-07-17 21:04:40.131167: E external/local_xla/xla/service/gpu/conv_algorithm_picker.cc:271] Platform: Compute Capability 6.0\n",
      "2024-07-17 21:04:40.131174: E external/local_xla/xla/service/gpu/conv_algorithm_picker.cc:272] Driver: 12040 (550.90.7)\n",
      "2024-07-17 21:04:40.131181: E external/local_xla/xla/service/gpu/conv_algorithm_picker.cc:273] Runtime: <undefined>\n",
      "2024-07-17 21:04:40.131194: E external/local_xla/xla/service/gpu/conv_algorithm_picker.cc:280] cudnn version: 8.9.0\n",
      "2024-07-17 21:04:40.230682: E external/local_xla/xla/service/gpu/buffer_comparator.cc:1137] Difference at 29007: 4.4263, expected 3.88178\n",
      "2024-07-17 21:04:40.230732: E external/local_xla/xla/service/gpu/buffer_comparator.cc:1137] Difference at 29623: 4.31422, expected 3.7697\n",
      "2024-07-17 21:04:40.230749: E external/local_xla/xla/service/gpu/buffer_comparator.cc:1137] Difference at 31593: 4.14511, expected 3.60059\n",
      "2024-07-17 21:04:40.230761: E external/local_xla/xla/service/gpu/buffer_comparator.cc:1137] Difference at 32672: 4.2334, expected 3.68887\n",
      "2024-07-17 21:04:40.230890: E external/local_xla/xla/service/gpu/buffer_comparator.cc:1137] Difference at 61854: 6.27065, expected 5.51022\n",
      "2024-07-17 21:04:40.230907: E external/local_xla/xla/service/gpu/buffer_comparator.cc:1137] Difference at 61866: 6.53341, expected 5.77298\n",
      "2024-07-17 21:04:40.230920: E external/local_xla/xla/service/gpu/buffer_comparator.cc:1137] Difference at 61912: 6.49767, expected 5.73724\n",
      "2024-07-17 21:04:40.230932: E external/local_xla/xla/service/gpu/buffer_comparator.cc:1137] Difference at 61914: 4.8307, expected 4.07027\n",
      "2024-07-17 21:04:40.230946: E external/local_xla/xla/service/gpu/buffer_comparator.cc:1137] Difference at 61915: 6.25557, expected 5.49514\n",
      "2024-07-17 21:04:40.230960: E external/local_xla/xla/service/gpu/buffer_comparator.cc:1137] Difference at 61917: 5.92464, expected 5.1642\n",
      "2024-07-17 21:04:40.232342: E external/local_xla/xla/service/gpu/conv_algorithm_picker.cc:705] Results mismatch between different convolution algorithms. This is likely a bug/unexpected loss of precision in cudnn.\n",
      "(f32[26,32,94,94]{3,2,1,0}, u8[0]{0}) custom-call(f32[26,3,96,96]{3,2,1,0}, f32[32,3,3,3]{3,2,1,0}, f32[32]{0}), window={size=3x3}, dim_labels=bf01_oi01->bf01, custom_call_target=\"__cudnn$convBiasActivationForward\", backend_config={\"conv_result_scale\":1,\"activation_mode\":\"kRelu\",\"side_input_scale\":0,\"leakyrelu_alpha\":0} for eng20{k2=2,k4=1,k5=1,k6=0,k7=0} vs eng15{k5=1,k6=0,k7=1,k10=1}\n",
      "2024-07-17 21:04:40.232370: E external/local_xla/xla/service/gpu/conv_algorithm_picker.cc:270] Device: Tesla P100-PCIE-16GB\n",
      "2024-07-17 21:04:40.232378: E external/local_xla/xla/service/gpu/conv_algorithm_picker.cc:271] Platform: Compute Capability 6.0\n",
      "2024-07-17 21:04:40.232385: E external/local_xla/xla/service/gpu/conv_algorithm_picker.cc:272] Driver: 12040 (550.90.7)\n",
      "2024-07-17 21:04:40.232392: E external/local_xla/xla/service/gpu/conv_algorithm_picker.cc:273] Runtime: <undefined>\n",
      "2024-07-17 21:04:40.232406: E external/local_xla/xla/service/gpu/conv_algorithm_picker.cc:280] cudnn version: 8.9.0\n"
     ]
    },
    {
     "name": "stdout",
     "output_type": "stream",
     "text": [
      "\u001b[1m77/77\u001b[0m \u001b[32m━━━━━━━━━━━━━━━━━━━━\u001b[0m\u001b[37m\u001b[0m \u001b[1m2s\u001b[0m 21ms/step\n"
     ]
    }
   ],
   "source": [
    "plt.figure(1)\n",
    "plt.plot([0, 1], [0, 1], 'k--')\n",
    "plt.plot(fpr_keras, tpr_keras, label='area = {:.3f}'.format(auc_keras))\n",
    "plt.xlabel('False positive rate')\n",
    "plt.ylabel('True positive rate')\n",
    "plt.title('ROC curve')\n",
    "plt.legend(loc='best')\n",
    "plt.show()\n",
    "base_test_dir = '../input/histopathologic-cancer-detection/test/'\n",
    "test_files = glob(os.path.join(base_test_dir, '*.tif'))\n",
    "submission = pd.DataFrame()\n",
    "file_batch = 5000\n",
    "max_idx = len(test_files)\n",
    "for idx in range(0, max_idx, file_batch):\n",
    "    print(\"Indexes: %i - %i\" % (idx, idx+file_batch))\n",
    "    test_df = pd.DataFrame({'path': test_files[idx:idx+file_batch]})\n",
    "    test_df['id'] = test_df.path.map(lambda x: x.split('/')[4].split(\".\")[0])\n",
    "    test_df['image'] = test_df['path'].map(imread)\n",
    "    K_test = np.stack(test_df[\"image\"].values)\n",
    "    K_test = (K_test - K_test.mean()) / K_test.std()\n",
    "    predictions = model.predict(K_test)\n",
    "    test_df['label'] = predictions\n",
    "    submission = pd.concat([submission, test_df[[\"id\", \"label\"]]])"
   ]
  },
  {
   "cell_type": "code",
   "execution_count": 18,
   "metadata": {
    "execution": {
     "iopub.execute_input": "2024-07-17T21:20:30.206794Z",
     "iopub.status.busy": "2024-07-17T21:20:30.205956Z",
     "iopub.status.idle": "2024-07-17T21:20:30.413689Z",
     "shell.execute_reply": "2024-07-17T21:20:30.412920Z",
     "shell.execute_reply.started": "2024-07-17T21:20:30.206764Z"
    }
   },
   "outputs": [],
   "source": [
    "submission.to_csv(\"submission.csv\", index=False, header=True)\n"
   ]
  }
 ],
 "metadata": {
  "kaggle": {
   "accelerator": "gpu",
   "dataSources": [
    {
     "databundleVersionId": 862157,
     "sourceId": 11848,
     "sourceType": "competition"
    }
   ],
   "dockerImageVersionId": 30747,
   "isGpuEnabled": true,
   "isInternetEnabled": true,
   "language": "python",
   "sourceType": "notebook"
  },
  "kernelspec": {
   "display_name": "Python 3 (ipykernel)",
   "language": "python",
   "name": "python3"
  },
  "language_info": {
   "codemirror_mode": {
    "name": "ipython",
    "version": 3
   },
   "file_extension": ".py",
   "mimetype": "text/x-python",
   "name": "python",
   "nbconvert_exporter": "python",
   "pygments_lexer": "ipython3",
   "version": "3.11.9"
  }
 },
 "nbformat": 4,
 "nbformat_minor": 4
}
